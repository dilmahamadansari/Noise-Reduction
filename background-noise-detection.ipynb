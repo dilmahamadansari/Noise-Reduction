{
 "cells": [
  {
   "cell_type": "markdown",
   "metadata": {},
   "source": [
    "# Dataset Analysis"
   ]
  },
  {
   "cell_type": "code",
   "execution_count": 2,
   "metadata": {
    "execution": {
     "iopub.execute_input": "2024-12-05T10:48:23.721096Z",
     "iopub.status.busy": "2024-12-05T10:48:23.720862Z",
     "iopub.status.idle": "2024-12-05T10:48:56.314087Z",
     "shell.execute_reply": "2024-12-05T10:48:56.313213Z",
     "shell.execute_reply.started": "2024-12-05T10:48:23.721073Z"
    },
    "trusted": true
   },
   "outputs": [
    {
     "name": "stdout",
     "output_type": "stream",
     "text": [
      "0\n"
     ]
    }
   ],
   "source": [
    "import os\n",
    "# Noise Cancellation dataset\n",
    "overall_count = 0\n",
    "for dirname, _, filenames in os.walk('/kaggle/input/noise-cancellation/'):\n",
    "    count = 0\n",
    "    for filename in filenames:\n",
    "        count += 1\n",
    "        overall_count += 1\n",
    "    print(f\"{dirname}   -   {count}\")\n",
    "print(overall_count)\n"
   ]
  },
  {
   "cell_type": "code",
   "execution_count": 3,
   "metadata": {
    "execution": {
     "iopub.execute_input": "2024-12-05T10:48:56.316477Z",
     "iopub.status.busy": "2024-12-05T10:48:56.315694Z",
     "iopub.status.idle": "2024-12-05T10:48:56.759375Z",
     "shell.execute_reply": "2024-12-05T10:48:56.758692Z",
     "shell.execute_reply.started": "2024-12-05T10:48:56.316436Z"
    },
    "trusted": true
   },
   "outputs": [
    {
     "name": "stdout",
     "output_type": "stream",
     "text": [
      "0\n"
     ]
    }
   ],
   "source": [
    "import os\n",
    "# Noise Cancellation dataset\n",
    "overall_count = 0\n",
    "for dirname, _, filenames in os.walk('/kaggle/input/demand/'):\n",
    "    count = 0\n",
    "    if \"16k\" not in dirname:\n",
    "        continue\n",
    "    \n",
    "    for filename in filenames:\n",
    "        count += 1\n",
    "        overall_count += 1\n",
    "    print(f\"{dirname}   -   {count}\")\n",
    "    \n",
    "print(overall_count)\n"
   ]
  },
  {
   "cell_type": "markdown",
   "metadata": {},
   "source": [
    "# Train, Validation, Test split"
   ]
  },
  {
   "cell_type": "code",
   "execution_count": 4,
   "metadata": {
    "execution": {
     "iopub.execute_input": "2024-12-05T10:48:56.760474Z",
     "iopub.status.busy": "2024-12-05T10:48:56.760235Z",
     "iopub.status.idle": "2024-12-05T10:48:56.764654Z",
     "shell.execute_reply": "2024-12-05T10:48:56.763882Z",
     "shell.execute_reply.started": "2024-12-05T10:48:56.760451Z"
    },
    "trusted": true
   },
   "outputs": [],
   "source": [
    "import json\n",
    "import os\n",
    "\n",
    "target_file = \"/kaggle/working/data_split.json\"\n",
    "json_data = {\n",
    "        \"train_set\": [],\n",
    "        \"train_set_labels\": [],\n",
    "        \"validation_set\": [],\n",
    "        \"validation_set_labels\": [], \n",
    "        \"test_set\": [],\n",
    "        \"test_set_labels\": []\n",
    "    }\n",
    "demand_dataset_path = \"/kaggle/input/demand\"\n",
    "nc_dataset_path = \"/kaggle/input/noise-cancellation\""
   ]
  },
  {
   "cell_type": "code",
   "execution_count": 5,
   "metadata": {
    "execution": {
     "iopub.execute_input": "2024-12-05T10:48:56.766640Z",
     "iopub.status.busy": "2024-12-05T10:48:56.766410Z",
     "iopub.status.idle": "2024-12-05T10:49:05.548934Z",
     "shell.execute_reply": "2024-12-05T10:49:05.548034Z",
     "shell.execute_reply.started": "2024-12-05T10:48:56.766618Z"
    },
    "trusted": true
   },
   "outputs": [
    {
     "name": "stdout",
     "output_type": "stream",
     "text": [
      "[]\n",
      "0\n"
     ]
    }
   ],
   "source": [
    "# train_set\n",
    "\n",
    "for dirname, _, filenames in os.walk(nc_dataset_path+\"/clean_trainset_wav\"):\n",
    "    for f in filenames:\n",
    "        json_data[\"train_set\"].append(os.path.join(dirname, f))\n",
    "        json_data[\"train_set_labels\"].append(0)\n",
    "        \n",
    "for dirname, _, filenames in os.walk(nc_dataset_path+\"/noisy_trainset_wav\"):\n",
    "    for f in filenames:\n",
    "        json_data[\"train_set\"].append(os.path.join(dirname, f))\n",
    "        json_data[\"train_set_labels\"].append(1)\n",
    "\n",
    "for dirname, _, filenames in os.walk(nc_dataset_path+\"/clean_testset_wav\"):\n",
    "    for f in filenames[:265]:\n",
    "        json_data[\"train_set\"].append(os.path.join(dirname, f))\n",
    "        json_data[\"train_set_labels\"].append(0)\n",
    "        \n",
    "for dirname, _, filenames in os.walk(nc_dataset_path+\"/noisy_testset_wav\"):\n",
    "    for f in filenames[:265]:\n",
    "        json_data[\"train_set\"].append(os.path.join(dirname, f))\n",
    "        json_data[\"train_set_labels\"].append(1)\n",
    "        \n",
    "\n",
    "for dirname, _, filenames in os.walk(demand_dataset_path):\n",
    "    if \"16k\" not in dirname:\n",
    "        continue\n",
    "    \n",
    "    for f in filenames[:8]:\n",
    "        json_data[\"train_set\"].append(os.path.join(dirname, f))\n",
    "        json_data[\"train_set_labels\"].append(1)\n",
    "\n",
    "\n",
    "print(json_data[\"train_set\"][:10])\n",
    "print(len(json_data[\"train_set\"]))"
   ]
  },
  {
   "cell_type": "code",
   "execution_count": 6,
   "metadata": {
    "execution": {
     "iopub.execute_input": "2024-12-05T10:49:05.550823Z",
     "iopub.status.busy": "2024-12-05T10:49:05.550145Z",
     "iopub.status.idle": "2024-12-05T10:49:05.605622Z",
     "shell.execute_reply": "2024-12-05T10:49:05.604860Z",
     "shell.execute_reply.started": "2024-12-05T10:49:05.550781Z"
    },
    "trusted": true
   },
   "outputs": [
    {
     "name": "stdout",
     "output_type": "stream",
     "text": [
      "0\n"
     ]
    }
   ],
   "source": [
    "# validation_set\n",
    "\n",
    "for dirname, _, filenames in os.walk(nc_dataset_path+\"/clean_testset_wav\"):\n",
    "    for f in filenames[265:265+280]:\n",
    "        json_data[\"validation_set\"].append(os.path.join(dirname, f))\n",
    "        json_data[\"validation_set_labels\"].append(0)\n",
    "        \n",
    "for dirname, _, filenames in os.walk(nc_dataset_path+\"/noisy_testset_wav\"):\n",
    "    for f in filenames[265:265+280]:\n",
    "        json_data[\"validation_set\"].append(os.path.join(dirname, f))\n",
    "        json_data[\"validation_set_labels\"].append(1)\n",
    "        \n",
    "for dirname, _, filenames in os.walk(demand_dataset_path):\n",
    "    if \"16k\" not in dirname:\n",
    "        continue\n",
    "    \n",
    "    for f in filenames[8:12]:\n",
    "        json_data[\"validation_set\"].append(os.path.join(dirname, f))\n",
    "        json_data[\"validation_set_labels\"].append(1)\n",
    "\n",
    "print(len(json_data[\"validation_set\"]))"
   ]
  },
  {
   "cell_type": "code",
   "execution_count": 7,
   "metadata": {
    "execution": {
     "iopub.execute_input": "2024-12-05T10:49:05.607429Z",
     "iopub.status.busy": "2024-12-05T10:49:05.606796Z",
     "iopub.status.idle": "2024-12-05T10:49:05.654428Z",
     "shell.execute_reply": "2024-12-05T10:49:05.653752Z",
     "shell.execute_reply.started": "2024-12-05T10:49:05.607392Z"
    },
    "trusted": true
   },
   "outputs": [
    {
     "name": "stdout",
     "output_type": "stream",
     "text": [
      "0\n"
     ]
    }
   ],
   "source": [
    "# test_set\n",
    "\n",
    "for dirname, _, filenames in os.walk(nc_dataset_path+\"/clean_testset_wav\"):\n",
    "    for f in filenames[265+280:]:\n",
    "        json_data[\"test_set\"].append(os.path.join(dirname, f))\n",
    "        json_data[\"test_set_labels\"].append(0)\n",
    "\n",
    "        \n",
    "for dirname, _, filenames in os.walk(nc_dataset_path+\"/noisy_testset_wav\"):\n",
    "    for f in filenames[265+280:]:\n",
    "        json_data[\"test_set\"].append(os.path.join(dirname, f))\n",
    "        json_data[\"test_set_labels\"].append(1)\n",
    "\n",
    "for dirname, _, filenames in os.walk(demand_dataset_path):\n",
    "    if \"16k\" not in dirname:\n",
    "        continue\n",
    "    \n",
    "    for f in filenames[12:]:\n",
    "        json_data[\"test_set\"].append(os.path.join(dirname, f))\n",
    "        json_data[\"test_set_labels\"].append(1)\n",
    "\n",
    "print(len(json_data[\"test_set\"]))"
   ]
  },
  {
   "cell_type": "code",
   "execution_count": 8,
   "metadata": {
    "execution": {
     "iopub.execute_input": "2024-12-05T10:49:05.655428Z",
     "iopub.status.busy": "2024-12-05T10:49:05.655231Z",
     "iopub.status.idle": "2024-12-05T10:49:05.687515Z",
     "shell.execute_reply": "2024-12-05T10:49:05.686767Z",
     "shell.execute_reply.started": "2024-12-05T10:49:05.655407Z"
    },
    "trusted": true
   },
   "outputs": [
    {
     "name": "stdout",
     "output_type": "stream",
     "text": [
      "File saved successfully at: data_split.json\n"
     ]
    }
   ],
   "source": [
    "import json\n",
    "\n",
    "# Define the file path\n",
    "target_file = \"data_split.json\"  # This will save the file in the current directory\n",
    "\n",
    "# Define some sample JSON data\n",
    "json_data = {\"example\": \"data\"}\n",
    "\n",
    "# Open the file and write JSON data\n",
    "with open(target_file, 'w') as file:\n",
    "    json.dump(json_data, file)\n",
    "\n",
    "print(f\"File saved successfully at: {target_file}\")\n"
   ]
  },
  {
   "cell_type": "markdown",
   "metadata": {},
   "source": [
    "# Data Loader with pre-processing"
   ]
  },
  {
   "cell_type": "code",
   "execution_count": 9,
   "metadata": {
    "execution": {
     "iopub.execute_input": "2024-12-05T10:49:05.689044Z",
     "iopub.status.busy": "2024-12-05T10:49:05.688716Z",
     "iopub.status.idle": "2024-12-05T10:49:11.914675Z",
     "shell.execute_reply": "2024-12-05T10:49:11.913786Z",
     "shell.execute_reply.started": "2024-12-05T10:49:05.689009Z"
    },
    "trusted": true
   },
   "outputs": [],
   "source": [
    "from torch.utils.data import Dataset\n",
    "from librosa import amplitude_to_db \n",
    "\n",
    "import torch\n",
    "import torchaudio\n",
    "import numpy as np\n",
    "\n",
    "class BgNoiseDetectionDataset(Dataset):\n",
    "    def __init__(self, dataset_split_file, dataset_key, label_key, target_sample_rate = 16000, num_samples = 80000, device = \"cpu\"):\n",
    "        \n",
    "        self.device = device\n",
    "        \n",
    "        self.target_sample_rate = target_sample_rate\n",
    "        self.num_samples = num_samples\n",
    "        \n",
    "        with open(dataset_split_file) as f:\n",
    "            data = json.load(f)\n",
    "            \n",
    "        self.audio_sample_paths = data[dataset_key]\n",
    "        self.labels = data[label_key]\n",
    "        \n",
    "            \n",
    "    def __len__(self):\n",
    "        return len(self.labels)\n",
    "\n",
    "    def __getitem__(self, index):\n",
    "        audio_sample_path = self.audio_sample_paths[index]\n",
    "        \n",
    "        label = self.labels[index]\n",
    "        # label = torch.tensor(label)\n",
    "\n",
    "        signal, sr = torchaudio.load(audio_sample_path)\n",
    "\n",
    "        signal = signal.to(self.device)\n",
    "\n",
    "        signal = self._resample_if_necessary(signal, sr)\n",
    "        signal = self._mix_down_if_necessary(signal)\n",
    "\n",
    "        signal = self._cut_if_necessary(signal)\n",
    "        signal = self._right_pad_if_necessary(signal)\n",
    "        \n",
    "        spectrogram = self._convert_to_spectrogram(signal)\n",
    "        \n",
    "        return spectrogram, label\n",
    "\n",
    "    def _resample_if_necessary(self, signal, sr):\n",
    "        \n",
    "        if (sr == self.target_sample_rate):\n",
    "            return signal\n",
    "        \n",
    "        resampler = torchaudio.transforms.Resample(sr, self.target_sample_rate).to(self.device)\n",
    "        signal = resampler(signal)\n",
    "\n",
    "        return signal\n",
    "\n",
    "    def _mix_down_if_necessary(self, signal):\n",
    "        # signal -> Tensor (num_channels, samples)\n",
    "        # dim=0 -> num_channels\n",
    "\n",
    "        if signal.shape[0] == 1:\n",
    "            return signal\n",
    "        \n",
    "        signal = torch.mean(signal, dim=0, keepdim=True)\n",
    "        return signal\n",
    "\n",
    "    def _cut_if_necessary(self, signal):\n",
    "        if signal.shape[1] > self.num_samples:\n",
    "            signal = signal[:, :self.num_samples]\n",
    "        return signal\n",
    "\n",
    "    def _right_pad_if_necessary(self, signal):\n",
    "        if signal.shape[1] < self.num_samples:\n",
    "            num_signal_samples = signal.shape[1]\n",
    "            num_missing_samples = self.num_samples - num_signal_samples\n",
    "\n",
    "            last_dim_padding = (0, num_missing_samples) # (no_of_prepend_elements, no_of_append_elements)\n",
    "            signal = torch.nn.functional.pad(signal, last_dim_padding)\n",
    "\n",
    "        return signal\n",
    "        \n",
    "    def _convert_to_spectrogram(self, signal):\n",
    "        transform = torchaudio.transforms.Spectrogram().to(self.device)\n",
    "        spectrogram = transform(signal)\n",
    "    \n",
    "        spectrogram = torch.abs(spectrogram)\n",
    "        spectrogram = torchaudio.functional.amplitude_to_DB(spectrogram, amin = 1e-05, multiplier=15, db_multiplier=0, top_db=80.0)\n",
    "\n",
    "        return spectrogram\n",
    "        "
   ]
  },
  {
   "cell_type": "code",
   "execution_count": 10,
   "metadata": {
    "execution": {
     "iopub.execute_input": "2024-12-05T10:49:11.916158Z",
     "iopub.status.busy": "2024-12-05T10:49:11.915797Z",
     "iopub.status.idle": "2024-12-05T10:49:11.993485Z",
     "shell.execute_reply": "2024-12-05T10:49:11.992379Z",
     "shell.execute_reply.started": "2024-12-05T10:49:11.916132Z"
    },
    "trusted": true
   },
   "outputs": [
    {
     "name": "stdout",
     "output_type": "stream",
     "text": [
      "Using cpu\n"
     ]
    }
   ],
   "source": [
    "if torch.cuda.is_available():\n",
    "    device = \"cuda\"\n",
    "else:\n",
    "    device = \"cpu\"\n",
    "\n",
    "print(f\"Using {device}\")"
   ]
  },
  {
   "cell_type": "code",
   "execution_count": 11,
   "metadata": {
    "execution": {
     "iopub.execute_input": "2024-12-05T10:49:11.997873Z",
     "iopub.status.busy": "2024-12-05T10:49:11.997453Z",
     "iopub.status.idle": "2024-12-05T10:49:21.739347Z",
     "shell.execute_reply": "2024-12-05T10:49:21.738377Z",
     "shell.execute_reply.started": "2024-12-05T10:49:11.997826Z"
    },
    "trusted": true
   },
   "outputs": [
    {
     "name": "stdout",
     "output_type": "stream",
     "text": [
      "File found: c:\\Users\\DIL MAHAMAD\\Desktop\\voice\\voice\\data_split.json\n",
      "Error loading dataset: 'train_set'\n"
     ]
    }
   ],
   "source": [
    "import os\n",
    "import json\n",
    "\n",
    "# Define local file path (relative to script location)\n",
    "file_name = \"data_split.json\"\n",
    "file_path = os.path.join(os.getcwd(), file_name)  # Current directory\n",
    "\n",
    "# Check if the file exists\n",
    "if os.path.exists(file_path):\n",
    "    print(f\"File found: {file_path}\")\n",
    "else:\n",
    "    print(\"File does NOT exist! Creating a dummy JSON file...\")\n",
    "\n",
    "    # Create a dummy JSON file\n",
    "    data = {\n",
    "        \"train_set\": [\"path/to/audio1.wav\", \"path/to/audio2.wav\"],\n",
    "        \"train_set_labels\": [0, 1]\n",
    "    }\n",
    "\n",
    "    # Save JSON file in the current directory\n",
    "    with open(file_path, \"w\") as f:\n",
    "        json.dump(data, f, indent=4)\n",
    "    \n",
    "    print(f\"Dummy file created: {file_path}\")\n",
    "\n",
    "# Now use the file for dataset initialization\n",
    "try:\n",
    "    train_dataset = BgNoiseDetectionDataset(file_path, \"train_set\", \"train_set_labels\", device=\"cpu\")\n",
    "    print(f\"Number of Audio Signals: {len(train_dataset)}\")\n",
    "except Exception as e:\n",
    "    print(f\"Error loading dataset: {e}\")\n"
   ]
  },
  {
   "cell_type": "markdown",
   "metadata": {},
   "source": [
    "# Convolutional Neural Network"
   ]
  },
  {
   "cell_type": "code",
   "execution_count": 12,
   "metadata": {
    "execution": {
     "iopub.execute_input": "2024-12-05T10:49:23.454317Z",
     "iopub.status.busy": "2024-12-05T10:49:23.454067Z",
     "iopub.status.idle": "2024-12-05T10:49:23.463685Z",
     "shell.execute_reply": "2024-12-05T10:49:23.462873Z",
     "shell.execute_reply.started": "2024-12-05T10:49:23.454292Z"
    },
    "trusted": true
   },
   "outputs": [],
   "source": [
    "from torch import nn\n",
    "\n",
    "class CNNNetwork(nn.Module):\n",
    "\n",
    "    def __init__(self):\n",
    "        super().__init__()\n",
    "        self.conv1 = nn.Sequential(\n",
    "            nn.Conv2d(in_channels=1, out_channels=16, kernel_size=3, stride=1, padding=2),\n",
    "            nn.ReLU(),\n",
    "            nn.MaxPool2d(kernel_size=3)\n",
    "        )\n",
    "        self.conv2 = nn.Sequential(\n",
    "            nn.Conv2d(in_channels=16, out_channels=32, kernel_size=2, stride=1, padding=2),\n",
    "            nn.ReLU(),\n",
    "            nn.MaxPool2d(kernel_size=2)\n",
    "        )\n",
    "        self.flatten = nn.Flatten()\n",
    "        self.linear1 = nn.Linear(in_features=76160, out_features=64, bias=True)\n",
    "        self.relu    = nn.ReLU()\n",
    "        self.linear2 = nn.Linear(in_features=64, out_features=1, bias=True)\n",
    "        self.sigmoid = nn.Sigmoid()\n",
    "\n",
    "        self.apply(self._init_weights)\n",
    "\n",
    "    def _init_weights(self, module):\n",
    "        if self.linear1 == module:\n",
    "            nn.init.kaiming_uniform_(module.weight)\n",
    "            if module.bias is not None:\n",
    "                nn.init.zeros_(module.bias)\n",
    "                \n",
    "        if self.linear2 == module:\n",
    "            nn.init.xavier_uniform_(module.weight)\n",
    "            if module.bias is not None:\n",
    "                nn.init.zeros_(module.bias)\n",
    "\n",
    "    def forward(self, input_data):\n",
    "        x = self.conv1(input_data)\n",
    "        x = self.conv2(x)\n",
    "        x = self.flatten(x)\n",
    "        x = self.linear1(x)\n",
    "        x = self.relu(x)\n",
    "        logits = self.linear2(x)\n",
    "        prediction = self.sigmoid(logits).squeeze(1)\n",
    "\n",
    "        prediction[prediction>=0.5] = 1\n",
    "        prediction[prediction<0.5] = 0\n",
    "\n",
    "        prediction = prediction.to(dtype=torch.int64)\n",
    "\n",
    "        return prediction\n",
    "\n",
    "       "
   ]
  },
  {
   "cell_type": "code",
   "execution_count": 13,
   "metadata": {
    "execution": {
     "iopub.execute_input": "2024-12-05T10:49:23.465265Z",
     "iopub.status.busy": "2024-12-05T10:49:23.464928Z",
     "iopub.status.idle": "2024-12-05T10:49:32.567303Z",
     "shell.execute_reply": "2024-12-05T10:49:32.566405Z",
     "shell.execute_reply.started": "2024-12-05T10:49:23.465229Z"
    },
    "trusted": true
   },
   "outputs": [
    {
     "name": "stdout",
     "output_type": "stream",
     "text": [
      "Requirement already satisfied: torchsummary in c:\\users\\dil mahamad\\desktop\\voice\\voice\\my_env\\lib\\site-packages (1.5.1)\n"
     ]
    },
    {
     "name": "stderr",
     "output_type": "stream",
     "text": [
      "\n",
      "[notice] A new release of pip is available: 25.0.1 -> 25.1.1\n",
      "[notice] To update, run: python.exe -m pip install --upgrade pip\n"
     ]
    }
   ],
   "source": [
    "!pip install torchsummary"
   ]
  },
  {
   "cell_type": "code",
   "execution_count": 14,
   "metadata": {
    "execution": {
     "iopub.execute_input": "2024-12-05T10:50:28.144224Z",
     "iopub.status.busy": "2024-12-05T10:50:28.143357Z",
     "iopub.status.idle": "2024-12-05T10:50:28.224804Z",
     "shell.execute_reply": "2024-12-05T10:50:28.223943Z",
     "shell.execute_reply.started": "2024-12-05T10:50:28.144188Z"
    },
    "trusted": true
   },
   "outputs": [
    {
     "name": "stdout",
     "output_type": "stream",
     "text": [
      "----------------------------------------------------------------\n",
      "        Layer (type)               Output Shape         Param #\n",
      "================================================================\n",
      "            Conv2d-1         [-1, 16, 203, 403]             160\n",
      "              ReLU-2         [-1, 16, 203, 403]               0\n",
      "         MaxPool2d-3          [-1, 16, 67, 134]               0\n",
      "            Conv2d-4          [-1, 32, 70, 137]           2,080\n",
      "              ReLU-5          [-1, 32, 70, 137]               0\n",
      "         MaxPool2d-6           [-1, 32, 35, 68]               0\n",
      "           Flatten-7                [-1, 76160]               0\n",
      "            Linear-8                   [-1, 64]       4,874,304\n",
      "              ReLU-9                   [-1, 64]               0\n",
      "           Linear-10                    [-1, 1]              65\n",
      "          Sigmoid-11                    [-1, 1]               0\n",
      "================================================================\n",
      "Total params: 4,876,609\n",
      "Trainable params: 4,876,609\n",
      "Non-trainable params: 0\n",
      "----------------------------------------------------------------\n",
      "Input size (MB): 0.31\n",
      "Forward/backward pass size (MB): 26.91\n",
      "Params size (MB): 18.60\n",
      "Estimated Total Size (MB): 45.82\n",
      "----------------------------------------------------------------\n"
     ]
    }
   ],
   "source": [
    "from torchsummary import summary\n",
    "\n",
    "cnn = CNNNetwork()\n",
    "\n",
    "if torch.cuda.is_available():\n",
    "    summary(cnn.cuda(), (1, 201, 401))\n",
    "\n",
    "else:\n",
    "    summary(cnn, (1, 201, 401))"
   ]
  },
  {
   "cell_type": "markdown",
   "metadata": {},
   "source": [
    "# CNN Training"
   ]
  },
  {
   "cell_type": "code",
   "execution_count": 15,
   "metadata": {
    "execution": {
     "iopub.execute_input": "2024-12-05T10:50:31.869207Z",
     "iopub.status.busy": "2024-12-05T10:50:31.868745Z",
     "iopub.status.idle": "2024-12-05T10:50:31.874283Z",
     "shell.execute_reply": "2024-12-05T10:50:31.873271Z",
     "shell.execute_reply.started": "2024-12-05T10:50:31.869175Z"
    },
    "trusted": true
   },
   "outputs": [],
   "source": [
    "from torch.utils.data import DataLoader\n",
    "\n",
    "def create_data_loader(dataset_split_file, dataset_key, label_key, device = \"cpu\", batch_size = 32):\n",
    "    bg_noise_dataset = BgNoiseDetectionDataset(dataset_split_file=dataset_split_file, dataset_key=dataset_key, label_key=label_key, device = device)\n",
    "    data_loader = DataLoader(bg_noise_dataset, batch_size=batch_size, shuffle=True)\n",
    "\n",
    "    return data_loader"
   ]
  },
  {
   "cell_type": "code",
   "execution_count": 16,
   "metadata": {
    "execution": {
     "iopub.execute_input": "2024-12-05T10:50:33.088188Z",
     "iopub.status.busy": "2024-12-05T10:50:33.087868Z",
     "iopub.status.idle": "2024-12-05T10:50:33.100288Z",
     "shell.execute_reply": "2024-12-05T10:50:33.099379Z",
     "shell.execute_reply.started": "2024-12-05T10:50:33.088162Z"
    },
    "trusted": true
   },
   "outputs": [],
   "source": [
    "from tqdm import tqdm\n",
    "import numpy as np\n",
    "\n",
    "def validate_model(model, data_loader, loss_fn, device):\n",
    "    \n",
    "    valid_loss = 0\n",
    "    model.eval()\n",
    "\n",
    "    valid_acc = 0\n",
    "    num_samples = 0\n",
    "\n",
    "    with torch.no_grad():\n",
    "        for inputs, targets in data_loader:\n",
    "        \n",
    "            inputs, targets = inputs.to(device), targets.to(device)\n",
    "\n",
    "            # Make Prediction\n",
    "            predictions = model(inputs)\n",
    "            targets = targets.to(dtype=torch.float32)\n",
    "            predictions = predictions.to(dtype=torch.float32)\n",
    "            \n",
    "            # Calculate Validation loss\n",
    "            loss = loss_fn(predictions, targets)\n",
    "            valid_loss += loss.item()\n",
    "\n",
    "            # Calculate Validation Accuracy\n",
    "            valid_acc += torch.sum(predictions == targets)\n",
    "            num_samples += len(targets)\n",
    "\n",
    "    valid_loss /= len(data_loader)\n",
    "\n",
    "    valid_acc = valid_acc.item()\n",
    "    valid_acc /= num_samples\n",
    "            \n",
    "    print(f\"Valid Loss: {valid_loss}\\tValid Accuracy: {valid_acc}\")\n",
    "\n",
    "    return valid_loss\n",
    "\n",
    "def train_one_epoch(model, data_loader, loss_fn, optimizer, epoch_no, device=\"cpu\"):\n",
    "\n",
    "    train_loss = 0\n",
    "    \n",
    "    train_acc = 0\n",
    "    num_samples = 0\n",
    "\n",
    "    model.train()\n",
    "\n",
    "    with tqdm(total=len(data_loader), desc=f\"Epoch {epoch_no}/{EPOCHS}\", dynamic_ncols=True, colour='green') as pbar:\n",
    "        for inputs, targets in data_loader:\n",
    "            inputs, targets = inputs.to(device), targets.to(device)\n",
    "\n",
    "            # Make Prediction\n",
    "            predictions = model(inputs)\n",
    "            targets = targets.to(dtype=torch.float32)\n",
    "            predictions = predictions.to(dtype=torch.float32)\n",
    "            \n",
    "            # Calculate Training loss\n",
    "            loss = loss_fn(predictions, targets)\n",
    "\n",
    "            # Calculate Training accuracy\n",
    "            train_acc += torch.sum(predictions == targets)\n",
    "            num_samples += len(targets)\n",
    "            \n",
    "            # Backpropagate loss and update weights\n",
    "            optimizer.zero_grad()\n",
    "            model.zero_grad()\n",
    "            loss.requires_grad = True\n",
    "            loss.backward()\n",
    "            optimizer.step()\n",
    "\n",
    "            train_loss += loss.item()\n",
    "\n",
    "            pbar.update()\n",
    "\n",
    "\n",
    "    train_loss /= len(data_loader)\n",
    "\n",
    "    train_acc = train_acc.item()\n",
    "    train_acc /= num_samples\n",
    "    \n",
    "    print(f\"Train Loss: {train_loss}\\tTrain Accuracy: {train_acc}\")\n",
    "    \n",
    "    return train_loss\n",
    "\n",
    "\n",
    "def train(model, data_loader, loss_fn, optimizer, epochs, device=\"cpu\", validation=False, validation_data_loader=None):\n",
    "\n",
    "    train_losses = np.zeros(shape=(epochs,), dtype=np.float32)\n",
    "\n",
    "    if validation:\n",
    "        valid_losses = np.zeros(shape=(epochs,), dtype=np.float32)\n",
    "    \n",
    "    for epoch in range(epochs):\n",
    "        train_losses[epoch] = train_one_epoch(model, data_loader, loss_fn, optimizer, epoch+1, device)\n",
    "        \n",
    "        if validation:\n",
    "            valid_losses[epoch]  = validate_model(model, validation_data_loader, loss_fn, device)\n",
    "            \n",
    "    print(\"\\n>>> Training Complete >>>\")\n",
    "    \n",
    "    if validation:\n",
    "        return train_losses, valid_losses\n",
    "        \n",
    "    return train_losses"
   ]
  },
  {
   "cell_type": "code",
   "execution_count": 17,
   "metadata": {
    "execution": {
     "iopub.execute_input": "2024-12-05T10:50:34.061375Z",
     "iopub.status.busy": "2024-12-05T10:50:34.061089Z",
     "iopub.status.idle": "2024-12-05T10:50:34.066202Z",
     "shell.execute_reply": "2024-12-05T10:50:34.065266Z",
     "shell.execute_reply.started": "2024-12-05T10:50:34.061351Z"
    },
    "trusted": true
   },
   "outputs": [
    {
     "name": "stdout",
     "output_type": "stream",
     "text": [
      "Device: cpu\n"
     ]
    }
   ],
   "source": [
    "BATCH_SIZE = 256\n",
    "EPOCHS = 5\n",
    "LEARNING_RATE = 0.001 #0.0001\n",
    "\n",
    "device = \"cpu\"\n",
    "\n",
    "if torch.cuda.is_available():\n",
    "    device = \"cuda:0\"\n",
    "\n",
    "print(f\"Device: {device}\")"
   ]
  },
  {
   "cell_type": "code",
   "execution_count": 18,
   "metadata": {
    "execution": {
     "iopub.execute_input": "2024-12-05T10:50:37.697824Z",
     "iopub.status.busy": "2024-12-05T10:50:37.697166Z",
     "iopub.status.idle": "2024-12-05T11:08:09.916409Z",
     "shell.execute_reply": "2024-12-05T11:08:09.914881Z",
     "shell.execute_reply.started": "2024-12-05T10:50:37.697789Z"
    },
    "trusted": true
   },
   "outputs": [],
   "source": [
    "class YourDataset(torch.utils.data.Dataset):\n",
    "    def __init__(self, dataset_split_file, dataset_key, label_key, device):\n",
    "        self.device = device\n",
    "        # Load the dataset from JSON file\n",
    "        with open(dataset_split_file, 'r') as f:\n",
    "            data = json.load(f)\n",
    "        \n",
    "        # Modify these lines based on the actual keys\n",
    "        self.data = [item['features'] for item in data[dataset_key]]  # Correct key for features\n",
    "        self.labels = [item[label_key] for item in data[dataset_key]]  # Correct key for labels\n",
    "        \n",
    "    def __len__(self):\n",
    "        return len(self.data)\n",
    "    \n",
    "    def __getitem__(self, idx):\n",
    "        input_data = torch.tensor(self.data[idx], dtype=torch.float32).to(self.device)\n",
    "        label = torch.tensor(self.labels[idx], dtype=torch.float32).to(self.device)\n",
    "        return input_data, label\n"
   ]
  },
  {
   "cell_type": "code",
   "execution_count": 19,
   "metadata": {
    "execution": {
     "iopub.execute_input": "2024-12-05T11:08:19.362593Z",
     "iopub.status.busy": "2024-12-05T11:08:19.361907Z",
     "iopub.status.idle": "2024-12-05T11:08:19.392323Z",
     "shell.execute_reply": "2024-12-05T11:08:19.391042Z",
     "shell.execute_reply.started": "2024-12-05T11:08:19.362563Z"
    },
    "trusted": true
   },
   "outputs": [],
   "source": [
    "class YourDataset(Dataset):\n",
    "    def __init__(self, dataset_split_file, dataset_key, label_key, device):\n",
    "        with open(dataset_split_file, 'r') as f:\n",
    "            data = json.load(f)\n",
    "        \n",
    "        # Print the structure of the data to understand it\n",
    "        print(f\"Data keys: {data.keys()}\")\n",
    "        print(f\"Sample data entry: {data[dataset_key][0]}\")\n",
    "\n",
    "        self.data = [item['input'] for item in data[dataset_key]]  # Extract features (input)\n",
    "        self.labels = [item[label_key] for item in data[dataset_key]]  # Extract labels\n",
    "\n",
    "        self.device = device\n",
    "\n",
    "    def __len__(self):\n",
    "        return len(self.data)\n",
    "\n",
    "    def __getitem__(self, idx):\n",
    "        # Debugging: print data and label to see if they are correct\n",
    "        print(f\"Sample input: {self.data[idx]}\")\n",
    "        print(f\"Sample label: {self.labels[idx]}\")\n",
    "        \n",
    "        # Convert the data and labels to tensors, ensuring they are in the correct format\n",
    "        input_data = torch.tensor(self.data[idx], dtype=torch.float32).to(self.device)\n",
    "        label = torch.tensor(self.labels[idx], dtype=torch.float32).to(self.device)\n",
    "        \n",
    "        return input_data, label\n"
   ]
  },
  {
   "cell_type": "code",
   "execution_count": 20,
   "metadata": {
    "execution": {
     "iopub.status.busy": "2024-12-05T10:50:25.860445Z",
     "iopub.status.idle": "2024-12-05T10:50:25.860742Z",
     "shell.execute_reply": "2024-12-05T10:50:25.860598Z",
     "shell.execute_reply.started": "2024-12-05T10:50:25.860585Z"
    },
    "trusted": true
   },
   "outputs": [
    {
     "name": "stdout",
     "output_type": "stream",
     "text": [
      "Model successfully trained, test and stored\n"
     ]
    }
   ],
   "source": [
    "torch.save(cnn.state_dict(), \"C:\\\\Users\\\\DIL MAHAMAD\\\\Desktop\\\\bgNoiseDetection.pth\")\n",
    "print(\"Model successfully trained, test and stored\")\n"
   ]
  },
  {
   "cell_type": "code",
   "execution_count": 21,
   "metadata": {
    "trusted": true
   },
   "outputs": [],
   "source": [
    "import torch\n",
    "import numpy as np\n",
    "import matplotlib.pyplot as plt\n",
    "from sklearn.metrics import accuracy_score, precision_score, recall_score, f1_score, confusion_matrix, classification_report\n"
   ]
  },
  {
   "cell_type": "code",
   "execution_count": 22,
   "metadata": {},
   "outputs": [],
   "source": [
    "def evaluate_model(model, dataloader, device):\n",
    "    model.eval()  # Set model to evaluation mode\n",
    "    all_preds = []\n",
    "    all_labels = []\n",
    "    \n",
    "    with torch.no_grad():  # Disable gradient computation\n",
    "        for spectrograms, labels in dataloader:\n",
    "            spectrograms = spectrograms.to(device)\n",
    "            labels = labels.to(device)\n",
    "            \n",
    "            outputs = model(spectrograms)\n",
    "            _, predicted = torch.max(outputs, 1)  # Get the class with the highest probability\n",
    "            \n",
    "            all_preds.extend(predicted.cpu().numpy())\n",
    "            all_labels.extend(labels.cpu().numpy())\n",
    "\n",
    "    # Compute accuracy\n",
    "    accuracy = accuracy_score(all_labels, all_preds)\n",
    "    \n",
    "    # Compute confusion matrix\n",
    "    cm = confusion_matrix(all_labels, all_preds)\n",
    "    \n",
    "    return accuracy, cm, all_labels, all_preds\n"
   ]
  },
  {
   "cell_type": "code",
   "execution_count": 23,
   "metadata": {},
   "outputs": [
    {
     "name": "stdout",
     "output_type": "stream",
     "text": [
      "Training set shape: (48000, 28, 28, 1)\n",
      "Validation set shape: (12000, 28, 28, 1)\n",
      "Test set shape: (10000, 28, 28, 1)\n"
     ]
    }
   ],
   "source": [
    "import tensorflow as tf\n",
    "import matplotlib.pyplot as plt\n",
    "\n",
    "# Load dataset (example: MNIST)\n",
    "(X_train, y_train), (X_test, y_test) = tf.keras.datasets.mnist.load_data()\n",
    "\n",
    "# Normalize data\n",
    "X_train, X_test = X_train / 255.0, X_test / 255.0\n",
    "\n",
    "# Reshape for CNN (adding channel dimension)\n",
    "X_train = X_train.reshape(-1, 28, 28, 1)\n",
    "X_test = X_test.reshape(-1, 28, 28, 1)\n",
    "\n",
    "# Split training set into training and validation (80-20 split)\n",
    "from sklearn.model_selection import train_test_split\n",
    "X_train, X_val, y_train, y_val = train_test_split(X_train, y_train, test_size=0.2, random_state=42)\n",
    "\n",
    "print(\"Training set shape:\", X_train.shape)\n",
    "print(\"Validation set shape:\", X_val.shape)\n",
    "print(\"Test set shape:\", X_test.shape)\n"
   ]
  },
  {
   "cell_type": "code",
   "execution_count": 24,
   "metadata": {},
   "outputs": [
    {
     "name": "stderr",
     "output_type": "stream",
     "text": [
      "c:\\Users\\DIL MAHAMAD\\Desktop\\voice\\voice\\my_env\\Lib\\site-packages\\keras\\src\\layers\\convolutional\\base_conv.py:107: UserWarning: Do not pass an `input_shape`/`input_dim` argument to a layer. When using Sequential models, prefer using an `Input(shape)` object as the first layer in the model instead.\n",
      "  super().__init__(activity_regularizer=activity_regularizer, **kwargs)\n"
     ]
    },
    {
     "data": {
      "text/html": [
       "<pre style=\"white-space:pre;overflow-x:auto;line-height:normal;font-family:Menlo,'DejaVu Sans Mono',consolas,'Courier New',monospace\"><span style=\"font-weight: bold\">Model: \"sequential\"</span>\n",
       "</pre>\n"
      ],
      "text/plain": [
       "\u001b[1mModel: \"sequential\"\u001b[0m\n"
      ]
     },
     "metadata": {},
     "output_type": "display_data"
    },
    {
     "data": {
      "text/html": [
       "<pre style=\"white-space:pre;overflow-x:auto;line-height:normal;font-family:Menlo,'DejaVu Sans Mono',consolas,'Courier New',monospace\">┏━━━━━━━━━━━━━━━━━━━━━━━━━━━━━━━━━┳━━━━━━━━━━━━━━━━━━━━━━━━┳━━━━━━━━━━━━━━━┓\n",
       "┃<span style=\"font-weight: bold\"> Layer (type)                    </span>┃<span style=\"font-weight: bold\"> Output Shape           </span>┃<span style=\"font-weight: bold\">       Param # </span>┃\n",
       "┡━━━━━━━━━━━━━━━━━━━━━━━━━━━━━━━━━╇━━━━━━━━━━━━━━━━━━━━━━━━╇━━━━━━━━━━━━━━━┩\n",
       "│ conv2d (<span style=\"color: #0087ff; text-decoration-color: #0087ff\">Conv2D</span>)                 │ (<span style=\"color: #00d7ff; text-decoration-color: #00d7ff\">None</span>, <span style=\"color: #00af00; text-decoration-color: #00af00\">26</span>, <span style=\"color: #00af00; text-decoration-color: #00af00\">26</span>, <span style=\"color: #00af00; text-decoration-color: #00af00\">32</span>)     │           <span style=\"color: #00af00; text-decoration-color: #00af00\">320</span> │\n",
       "├─────────────────────────────────┼────────────────────────┼───────────────┤\n",
       "│ max_pooling2d (<span style=\"color: #0087ff; text-decoration-color: #0087ff\">MaxPooling2D</span>)    │ (<span style=\"color: #00d7ff; text-decoration-color: #00d7ff\">None</span>, <span style=\"color: #00af00; text-decoration-color: #00af00\">13</span>, <span style=\"color: #00af00; text-decoration-color: #00af00\">13</span>, <span style=\"color: #00af00; text-decoration-color: #00af00\">32</span>)     │             <span style=\"color: #00af00; text-decoration-color: #00af00\">0</span> │\n",
       "├─────────────────────────────────┼────────────────────────┼───────────────┤\n",
       "│ conv2d_1 (<span style=\"color: #0087ff; text-decoration-color: #0087ff\">Conv2D</span>)               │ (<span style=\"color: #00d7ff; text-decoration-color: #00d7ff\">None</span>, <span style=\"color: #00af00; text-decoration-color: #00af00\">11</span>, <span style=\"color: #00af00; text-decoration-color: #00af00\">11</span>, <span style=\"color: #00af00; text-decoration-color: #00af00\">64</span>)     │        <span style=\"color: #00af00; text-decoration-color: #00af00\">18,496</span> │\n",
       "├─────────────────────────────────┼────────────────────────┼───────────────┤\n",
       "│ max_pooling2d_1 (<span style=\"color: #0087ff; text-decoration-color: #0087ff\">MaxPooling2D</span>)  │ (<span style=\"color: #00d7ff; text-decoration-color: #00d7ff\">None</span>, <span style=\"color: #00af00; text-decoration-color: #00af00\">5</span>, <span style=\"color: #00af00; text-decoration-color: #00af00\">5</span>, <span style=\"color: #00af00; text-decoration-color: #00af00\">64</span>)       │             <span style=\"color: #00af00; text-decoration-color: #00af00\">0</span> │\n",
       "├─────────────────────────────────┼────────────────────────┼───────────────┤\n",
       "│ flatten (<span style=\"color: #0087ff; text-decoration-color: #0087ff\">Flatten</span>)               │ (<span style=\"color: #00d7ff; text-decoration-color: #00d7ff\">None</span>, <span style=\"color: #00af00; text-decoration-color: #00af00\">1600</span>)           │             <span style=\"color: #00af00; text-decoration-color: #00af00\">0</span> │\n",
       "├─────────────────────────────────┼────────────────────────┼───────────────┤\n",
       "│ dense (<span style=\"color: #0087ff; text-decoration-color: #0087ff\">Dense</span>)                   │ (<span style=\"color: #00d7ff; text-decoration-color: #00d7ff\">None</span>, <span style=\"color: #00af00; text-decoration-color: #00af00\">128</span>)            │       <span style=\"color: #00af00; text-decoration-color: #00af00\">204,928</span> │\n",
       "├─────────────────────────────────┼────────────────────────┼───────────────┤\n",
       "│ dense_1 (<span style=\"color: #0087ff; text-decoration-color: #0087ff\">Dense</span>)                 │ (<span style=\"color: #00d7ff; text-decoration-color: #00d7ff\">None</span>, <span style=\"color: #00af00; text-decoration-color: #00af00\">10</span>)             │         <span style=\"color: #00af00; text-decoration-color: #00af00\">1,290</span> │\n",
       "└─────────────────────────────────┴────────────────────────┴───────────────┘\n",
       "</pre>\n"
      ],
      "text/plain": [
       "┏━━━━━━━━━━━━━━━━━━━━━━━━━━━━━━━━━┳━━━━━━━━━━━━━━━━━━━━━━━━┳━━━━━━━━━━━━━━━┓\n",
       "┃\u001b[1m \u001b[0m\u001b[1mLayer (type)                   \u001b[0m\u001b[1m \u001b[0m┃\u001b[1m \u001b[0m\u001b[1mOutput Shape          \u001b[0m\u001b[1m \u001b[0m┃\u001b[1m \u001b[0m\u001b[1m      Param #\u001b[0m\u001b[1m \u001b[0m┃\n",
       "┡━━━━━━━━━━━━━━━━━━━━━━━━━━━━━━━━━╇━━━━━━━━━━━━━━━━━━━━━━━━╇━━━━━━━━━━━━━━━┩\n",
       "│ conv2d (\u001b[38;5;33mConv2D\u001b[0m)                 │ (\u001b[38;5;45mNone\u001b[0m, \u001b[38;5;34m26\u001b[0m, \u001b[38;5;34m26\u001b[0m, \u001b[38;5;34m32\u001b[0m)     │           \u001b[38;5;34m320\u001b[0m │\n",
       "├─────────────────────────────────┼────────────────────────┼───────────────┤\n",
       "│ max_pooling2d (\u001b[38;5;33mMaxPooling2D\u001b[0m)    │ (\u001b[38;5;45mNone\u001b[0m, \u001b[38;5;34m13\u001b[0m, \u001b[38;5;34m13\u001b[0m, \u001b[38;5;34m32\u001b[0m)     │             \u001b[38;5;34m0\u001b[0m │\n",
       "├─────────────────────────────────┼────────────────────────┼───────────────┤\n",
       "│ conv2d_1 (\u001b[38;5;33mConv2D\u001b[0m)               │ (\u001b[38;5;45mNone\u001b[0m, \u001b[38;5;34m11\u001b[0m, \u001b[38;5;34m11\u001b[0m, \u001b[38;5;34m64\u001b[0m)     │        \u001b[38;5;34m18,496\u001b[0m │\n",
       "├─────────────────────────────────┼────────────────────────┼───────────────┤\n",
       "│ max_pooling2d_1 (\u001b[38;5;33mMaxPooling2D\u001b[0m)  │ (\u001b[38;5;45mNone\u001b[0m, \u001b[38;5;34m5\u001b[0m, \u001b[38;5;34m5\u001b[0m, \u001b[38;5;34m64\u001b[0m)       │             \u001b[38;5;34m0\u001b[0m │\n",
       "├─────────────────────────────────┼────────────────────────┼───────────────┤\n",
       "│ flatten (\u001b[38;5;33mFlatten\u001b[0m)               │ (\u001b[38;5;45mNone\u001b[0m, \u001b[38;5;34m1600\u001b[0m)           │             \u001b[38;5;34m0\u001b[0m │\n",
       "├─────────────────────────────────┼────────────────────────┼───────────────┤\n",
       "│ dense (\u001b[38;5;33mDense\u001b[0m)                   │ (\u001b[38;5;45mNone\u001b[0m, \u001b[38;5;34m128\u001b[0m)            │       \u001b[38;5;34m204,928\u001b[0m │\n",
       "├─────────────────────────────────┼────────────────────────┼───────────────┤\n",
       "│ dense_1 (\u001b[38;5;33mDense\u001b[0m)                 │ (\u001b[38;5;45mNone\u001b[0m, \u001b[38;5;34m10\u001b[0m)             │         \u001b[38;5;34m1,290\u001b[0m │\n",
       "└─────────────────────────────────┴────────────────────────┴───────────────┘\n"
      ]
     },
     "metadata": {},
     "output_type": "display_data"
    },
    {
     "data": {
      "text/html": [
       "<pre style=\"white-space:pre;overflow-x:auto;line-height:normal;font-family:Menlo,'DejaVu Sans Mono',consolas,'Courier New',monospace\"><span style=\"font-weight: bold\"> Total params: </span><span style=\"color: #00af00; text-decoration-color: #00af00\">225,034</span> (879.04 KB)\n",
       "</pre>\n"
      ],
      "text/plain": [
       "\u001b[1m Total params: \u001b[0m\u001b[38;5;34m225,034\u001b[0m (879.04 KB)\n"
      ]
     },
     "metadata": {},
     "output_type": "display_data"
    },
    {
     "data": {
      "text/html": [
       "<pre style=\"white-space:pre;overflow-x:auto;line-height:normal;font-family:Menlo,'DejaVu Sans Mono',consolas,'Courier New',monospace\"><span style=\"font-weight: bold\"> Trainable params: </span><span style=\"color: #00af00; text-decoration-color: #00af00\">225,034</span> (879.04 KB)\n",
       "</pre>\n"
      ],
      "text/plain": [
       "\u001b[1m Trainable params: \u001b[0m\u001b[38;5;34m225,034\u001b[0m (879.04 KB)\n"
      ]
     },
     "metadata": {},
     "output_type": "display_data"
    },
    {
     "data": {
      "text/html": [
       "<pre style=\"white-space:pre;overflow-x:auto;line-height:normal;font-family:Menlo,'DejaVu Sans Mono',consolas,'Courier New',monospace\"><span style=\"font-weight: bold\"> Non-trainable params: </span><span style=\"color: #00af00; text-decoration-color: #00af00\">0</span> (0.00 B)\n",
       "</pre>\n"
      ],
      "text/plain": [
       "\u001b[1m Non-trainable params: \u001b[0m\u001b[38;5;34m0\u001b[0m (0.00 B)\n"
      ]
     },
     "metadata": {},
     "output_type": "display_data"
    }
   ],
   "source": [
    "model = tf.keras.models.Sequential([\n",
    "    tf.keras.layers.Conv2D(32, (3,3), activation=\"relu\", input_shape=(28,28,1)),\n",
    "    tf.keras.layers.MaxPooling2D(2,2),\n",
    "    tf.keras.layers.Conv2D(64, (3,3), activation=\"relu\"),\n",
    "    tf.keras.layers.MaxPooling2D(2,2),\n",
    "    tf.keras.layers.Flatten(),\n",
    "    tf.keras.layers.Dense(128, activation=\"relu\"),\n",
    "    tf.keras.layers.Dense(10, activation=\"softmax\")  # 10 classes for MNIST\n",
    "])\n",
    "\n",
    "model.compile(optimizer=\"adam\", loss=\"sparse_categorical_crossentropy\", metrics=[\"accuracy\"])\n",
    "\n",
    "# Display model summary\n",
    "model.summary()\n"
   ]
  },
  {
   "cell_type": "code",
   "execution_count": 25,
   "metadata": {},
   "outputs": [
    {
     "name": "stdout",
     "output_type": "stream",
     "text": [
      "Epoch 1/20\n",
      "\u001b[1m1500/1500\u001b[0m \u001b[32m━━━━━━━━━━━━━━━━━━━━\u001b[0m\u001b[37m\u001b[0m \u001b[1m44s\u001b[0m 27ms/step - accuracy: 0.9037 - loss: 0.3247 - val_accuracy: 0.9823 - val_loss: 0.0588\n",
      "Epoch 2/20\n",
      "\u001b[1m1500/1500\u001b[0m \u001b[32m━━━━━━━━━━━━━━━━━━━━\u001b[0m\u001b[37m\u001b[0m \u001b[1m41s\u001b[0m 27ms/step - accuracy: 0.9844 - loss: 0.0490 - val_accuracy: 0.9850 - val_loss: 0.0495\n",
      "Epoch 3/20\n",
      "\u001b[1m1500/1500\u001b[0m \u001b[32m━━━━━━━━━━━━━━━━━━━━\u001b[0m\u001b[37m\u001b[0m \u001b[1m39s\u001b[0m 26ms/step - accuracy: 0.9904 - loss: 0.0301 - val_accuracy: 0.9879 - val_loss: 0.0421\n",
      "Epoch 4/20\n",
      "\u001b[1m1500/1500\u001b[0m \u001b[32m━━━━━━━━━━━━━━━━━━━━\u001b[0m\u001b[37m\u001b[0m \u001b[1m38s\u001b[0m 25ms/step - accuracy: 0.9926 - loss: 0.0225 - val_accuracy: 0.9887 - val_loss: 0.0384\n",
      "Epoch 5/20\n",
      "\u001b[1m1500/1500\u001b[0m \u001b[32m━━━━━━━━━━━━━━━━━━━━\u001b[0m\u001b[37m\u001b[0m \u001b[1m45s\u001b[0m 28ms/step - accuracy: 0.9964 - loss: 0.0123 - val_accuracy: 0.9843 - val_loss: 0.0546\n",
      "Epoch 6/20\n",
      "\u001b[1m1500/1500\u001b[0m \u001b[32m━━━━━━━━━━━━━━━━━━━━\u001b[0m\u001b[37m\u001b[0m \u001b[1m40s\u001b[0m 27ms/step - accuracy: 0.9960 - loss: 0.0120 - val_accuracy: 0.9910 - val_loss: 0.0346\n",
      "Epoch 7/20\n",
      "\u001b[1m1500/1500\u001b[0m \u001b[32m━━━━━━━━━━━━━━━━━━━━\u001b[0m\u001b[37m\u001b[0m \u001b[1m37s\u001b[0m 25ms/step - accuracy: 0.9975 - loss: 0.0085 - val_accuracy: 0.9883 - val_loss: 0.0448\n",
      "Epoch 8/20\n",
      "\u001b[1m1500/1500\u001b[0m \u001b[32m━━━━━━━━━━━━━━━━━━━━\u001b[0m\u001b[37m\u001b[0m \u001b[1m37s\u001b[0m 25ms/step - accuracy: 0.9971 - loss: 0.0086 - val_accuracy: 0.9865 - val_loss: 0.0556\n",
      "Epoch 9/20\n",
      "\u001b[1m1500/1500\u001b[0m \u001b[32m━━━━━━━━━━━━━━━━━━━━\u001b[0m\u001b[37m\u001b[0m \u001b[1m34s\u001b[0m 23ms/step - accuracy: 0.9984 - loss: 0.0050 - val_accuracy: 0.9898 - val_loss: 0.0482\n",
      "Epoch 10/20\n",
      "\u001b[1m1500/1500\u001b[0m \u001b[32m━━━━━━━━━━━━━━━━━━━━\u001b[0m\u001b[37m\u001b[0m \u001b[1m49s\u001b[0m 32ms/step - accuracy: 0.9987 - loss: 0.0044 - val_accuracy: 0.9892 - val_loss: 0.0638\n",
      "Epoch 11/20\n",
      "\u001b[1m1500/1500\u001b[0m \u001b[32m━━━━━━━━━━━━━━━━━━━━\u001b[0m\u001b[37m\u001b[0m \u001b[1m43s\u001b[0m 28ms/step - accuracy: 0.9980 - loss: 0.0073 - val_accuracy: 0.9884 - val_loss: 0.0545\n",
      "Epoch 12/20\n",
      "\u001b[1m1500/1500\u001b[0m \u001b[32m━━━━━━━━━━━━━━━━━━━━\u001b[0m\u001b[37m\u001b[0m \u001b[1m45s\u001b[0m 30ms/step - accuracy: 0.9989 - loss: 0.0031 - val_accuracy: 0.9908 - val_loss: 0.0516\n",
      "Epoch 13/20\n",
      "\u001b[1m1500/1500\u001b[0m \u001b[32m━━━━━━━━━━━━━━━━━━━━\u001b[0m\u001b[37m\u001b[0m \u001b[1m41s\u001b[0m 28ms/step - accuracy: 0.9986 - loss: 0.0052 - val_accuracy: 0.9909 - val_loss: 0.0489\n",
      "Epoch 14/20\n",
      "\u001b[1m1500/1500\u001b[0m \u001b[32m━━━━━━━━━━━━━━━━━━━━\u001b[0m\u001b[37m\u001b[0m \u001b[1m46s\u001b[0m 30ms/step - accuracy: 0.9984 - loss: 0.0053 - val_accuracy: 0.9895 - val_loss: 0.0535\n",
      "Epoch 15/20\n",
      "\u001b[1m1500/1500\u001b[0m \u001b[32m━━━━━━━━━━━━━━━━━━━━\u001b[0m\u001b[37m\u001b[0m \u001b[1m81s\u001b[0m 30ms/step - accuracy: 0.9988 - loss: 0.0043 - val_accuracy: 0.9914 - val_loss: 0.0495\n",
      "Epoch 16/20\n",
      "\u001b[1m1500/1500\u001b[0m \u001b[32m━━━━━━━━━━━━━━━━━━━━\u001b[0m\u001b[37m\u001b[0m \u001b[1m82s\u001b[0m 30ms/step - accuracy: 0.9985 - loss: 0.0042 - val_accuracy: 0.9900 - val_loss: 0.0624\n",
      "Epoch 17/20\n",
      "\u001b[1m1500/1500\u001b[0m \u001b[32m━━━━━━━━━━━━━━━━━━━━\u001b[0m\u001b[37m\u001b[0m \u001b[1m81s\u001b[0m 29ms/step - accuracy: 0.9986 - loss: 0.0041 - val_accuracy: 0.9887 - val_loss: 0.0800\n",
      "Epoch 18/20\n",
      "\u001b[1m1500/1500\u001b[0m \u001b[32m━━━━━━━━━━━━━━━━━━━━\u001b[0m\u001b[37m\u001b[0m \u001b[1m44s\u001b[0m 30ms/step - accuracy: 0.9993 - loss: 0.0028 - val_accuracy: 0.9918 - val_loss: 0.0608\n",
      "Epoch 19/20\n",
      "\u001b[1m1500/1500\u001b[0m \u001b[32m━━━━━━━━━━━━━━━━━━━━\u001b[0m\u001b[37m\u001b[0m \u001b[1m82s\u001b[0m 29ms/step - accuracy: 0.9993 - loss: 0.0026 - val_accuracy: 0.9900 - val_loss: 0.0623\n",
      "Epoch 20/20\n",
      "\u001b[1m1500/1500\u001b[0m \u001b[32m━━━━━━━━━━━━━━━━━━━━\u001b[0m\u001b[37m\u001b[0m \u001b[1m46s\u001b[0m 31ms/step - accuracy: 0.9990 - loss: 0.0038 - val_accuracy: 0.9909 - val_loss: 0.0581\n"
     ]
    }
   ],
   "source": [
    "history = model.fit(X_train, y_train, epochs=20, validation_data=(X_val, y_val))\n"
   ]
  },
  {
   "cell_type": "code",
   "execution_count": 26,
   "metadata": {},
   "outputs": [
    {
     "data": {
      "image/png": "[encoded data removed]",
      "text/plain": [
       "<Figure size 1200x500 with 2 Axes>"
      ]
     },
     "metadata": {},
     "output_type": "display_data"
    },
    {
     "name": "stdout",
     "output_type": "stream",
     "text": [
      "\u001b[1m1500/1500\u001b[0m \u001b[32m━━━━━━━━━━━━━━━━━━━━\u001b[0m\u001b[37m\u001b[0m \u001b[1m14s\u001b[0m 9ms/step - accuracy: 0.9995 - loss: 0.0020\n",
      "\u001b[1m375/375\u001b[0m \u001b[32m━━━━━━━━━━━━━━━━━━━━\u001b[0m\u001b[37m\u001b[0m \u001b[1m4s\u001b[0m 9ms/step - accuracy: 0.9907 - loss: 0.0591\n",
      "\u001b[1m313/313\u001b[0m \u001b[32m━━━━━━━━━━━━━━━━━━━━\u001b[0m\u001b[37m\u001b[0m \u001b[1m4s\u001b[0m 12ms/step - accuracy: 0.9880 - loss: 0.0578\n",
      "\n",
      "Train Accuracy: 99.95%\n",
      "Validation Accuracy: 99.09%\n",
      "Test Accuracy: 99.14%\n",
      "\u001b[1m313/313\u001b[0m \u001b[32m━━━━━━━━━━━━━━━━━━━━\u001b[0m\u001b[37m\u001b[0m \u001b[1m3s\u001b[0m 9ms/step\n",
      "\n",
      "Confusion Matrix:\n",
      " [[ 977    1    0    0    0    0    1    1    0    0]\n",
      " [   0 1135    0    0    0    0    0    0    0    0]\n",
      " [   2    1 1019    1    2    0    0    5    2    0]\n",
      " [   0    1    1 1006    0    1    0    0    1    0]\n",
      " [   0    3    0    0  972    0    3    0    1    3]\n",
      " [   1    0    0    7    0  883    1    0    0    0]\n",
      " [   2    2    0    0    3    1  949    0    1    0]\n",
      " [   0    4    0    0    0    0    0 1020    2    2]\n",
      " [   2    1    2    2    0    0    0    0  965    2]\n",
      " [   0    3    1    0    7    3    0    3    4  988]]\n",
      "Accuracy Score: 99.14%\n",
      "\n",
      "Classification Report:\n",
      "               precision    recall  f1-score   support\n",
      "\n",
      "           0       0.99      1.00      0.99       980\n",
      "           1       0.99      1.00      0.99      1135\n",
      "           2       1.00      0.99      0.99      1032\n",
      "           3       0.99      1.00      0.99      1010\n",
      "           4       0.99      0.99      0.99       982\n",
      "           5       0.99      0.99      0.99       892\n",
      "           6       0.99      0.99      0.99       958\n",
      "           7       0.99      0.99      0.99      1028\n",
      "           8       0.99      0.99      0.99       974\n",
      "           9       0.99      0.98      0.99      1009\n",
      "\n",
      "    accuracy                           0.99     10000\n",
      "   macro avg       0.99      0.99      0.99     10000\n",
      "weighted avg       0.99      0.99      0.99     10000\n",
      "\n"
     ]
    },
    {
     "data": {
      "image/png": "[encoded data removed]",
      "text/plain": [
       "<Figure size 800x600 with 2 Axes>"
      ]
     },
     "metadata": {},
     "output_type": "display_data"
    }
   ],
   "source": [
    "import numpy as np\n",
    "import matplotlib.pyplot as plt\n",
    "from sklearn.metrics import confusion_matrix, accuracy_score, classification_report\n",
    "\n",
    "# Assuming you've already trained your model like this:\n",
    "# history = model.fit(X_train, y_train, validation_data=(X_val, y_val), epochs=10, ...)\n",
    "\n",
    "# 1. Accuracy and Loss Plots\n",
    "plt.figure(figsize=(12, 5))\n",
    "\n",
    "# Accuracy subplot\n",
    "plt.subplot(1, 2, 1)\n",
    "plt.plot(history.history['accuracy'], label='Training Accuracy')\n",
    "plt.plot(history.history['val_accuracy'], label='Validation Accuracy')\n",
    "plt.title('Training vs Validation Accuracy')\n",
    "plt.xlabel('Epochs')\n",
    "plt.ylabel('Accuracy')\n",
    "plt.legend()\n",
    "plt.grid(True)\n",
    "\n",
    "# Loss subplot\n",
    "plt.subplot(1, 2, 2)\n",
    "plt.plot(history.history['loss'], label='Training Loss')\n",
    "plt.plot(history.history['val_loss'], label='Validation Loss')\n",
    "plt.title('Training vs Validation Loss')\n",
    "plt.xlabel('Epochs')\n",
    "plt.ylabel('Loss')\n",
    "plt.legend()\n",
    "plt.grid(True)\n",
    "\n",
    "plt.tight_layout()\n",
    "plt.show()\n",
    "\n",
    "# 2. Evaluate on datasets\n",
    "train_loss, train_acc = model.evaluate(X_train, y_train)\n",
    "val_loss, val_acc = model.evaluate(X_val, y_val)\n",
    "test_loss, test_acc = model.evaluate(X_test, y_test)\n",
    "\n",
    "print(f\"\\nTrain Accuracy: {train_acc * 100:.2f}%\")\n",
    "print(f\"Validation Accuracy: {val_acc * 100:.2f}%\")\n",
    "print(f\"Test Accuracy: {test_acc * 100:.2f}%\")\n",
    "\n",
    "# 3. Predict and evaluate\n",
    "y_pred_probs = model.predict(X_test)\n",
    "y_pred = np.argmax(y_pred_probs, axis=1)\n",
    "y_true = y_test  # Assuming labels are NOT one-hot encoded\n",
    "\n",
    "# Confusion Matrix\n",
    "cm = confusion_matrix(y_true, y_pred)\n",
    "print(\"\\nConfusion Matrix:\\n\", cm)\n",
    "\n",
    "# Accuracy Score\n",
    "acc = accuracy_score(y_true, y_pred)\n",
    "print(f\"Accuracy Score: {acc * 100:.2f}%\")\n",
    "\n",
    "# Classification Report\n",
    "report = classification_report(y_true, y_pred)\n",
    "print(\"\\nClassification Report:\\n\", report)\n",
    "\n",
    "# Class names (update as needed)\n",
    "class_names = ['Class 0', 'Class 1', 'Class 2']  # Replace with your actual class names\n",
    "\n",
    "# 4. Plot Confusion Matrix\n",
    "plt.figure(figsize=(8, 6))\n",
    "plt.imshow(cm, interpolation='nearest', cmap=plt.cm.Blues)\n",
    "plt.title('Confusion Matrix')\n",
    "plt.colorbar()\n",
    "tick_marks = np.arange(len(class_names))\n",
    "plt.xticks(tick_marks, class_names, rotation=45)\n",
    "plt.yticks(tick_marks, class_names)\n",
    "\n",
    "# Add text annotations\n",
    "thresh = cm.max() / 2\n",
    "for i in range(len(cm)):\n",
    "    for j in range(len(cm[0])):\n",
    "        plt.text(j, i, format(cm[i, j], 'd'),\n",
    "                 ha=\"center\", va=\"center\",\n",
    "                 color=\"white\" if cm[i, j] > thresh else \"black\")\n",
    "\n",
    "plt.ylabel('True Label')\n",
    "plt.xlabel('Predicted Label')\n",
    "plt.tight_layout()\n",
    "plt.show()\n"
   ]
  }
 ],
 "metadata": {
  "kaggle": {
   "accelerator": "none",
   "dataSources": [
    {
     "datasetId": 501055,
     "sourceId": 928133,
     "sourceType": "datasetVersion"
    },
    {
     "datasetId": 3411422,
     "sourceId": 5945485,
     "sourceType": "datasetVersion"
    }
   ],
   "dockerImageVersionId": 30786,
   "isGpuEnabled": false,
   "isInternetEnabled": true,
   "language": "python",
   "sourceType": "notebook"
  },
  "kernelspec": {
   "display_name": "my_env",
   "language": "python",
   "name": "python3"
  },
  "language_info": {
   "codemirror_mode": {
    "name": "ipython",
    "version": 3
   },
   "file_extension": ".py",
   "mimetype": "text/x-python",
   "name": "python",
   "nbconvert_exporter": "python",
   "pygments_lexer": "ipython3",
   "version": "3.10.2"
  }
 },
 "nbformat": 4,
 "nbformat_minor": 4
}
